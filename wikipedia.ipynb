{
  "nbformat": 4,
  "nbformat_minor": 0,
  "metadata": {
    "colab": {
      "name": "wikipedia.ipynb",
      "provenance": [],
      "collapsed_sections": []
    },
    "kernelspec": {
      "name": "python3",
      "display_name": "Python 3"
    },
    "language_info": {
      "name": "python"
    }
  },
  "cells": [
    {
      "cell_type": "code",
      "metadata": {
        "colab": {
          "base_uri": "https://localhost:8080/"
        },
        "id": "jGSGCBp-O3FW",
        "outputId": "d7f0e9cf-c16c-4df9-d455-d8f378ee447d"
      },
      "source": [
        "!pip install wikipedia"
      ],
      "execution_count": null,
      "outputs": [
        {
          "output_type": "stream",
          "text": [
            "Requirement already satisfied: wikipedia in /usr/local/lib/python3.7/dist-packages (1.4.0)\n",
            "Requirement already satisfied: requests<3.0.0,>=2.0.0 in /usr/local/lib/python3.7/dist-packages (from wikipedia) (2.23.0)\n",
            "Requirement already satisfied: beautifulsoup4 in /usr/local/lib/python3.7/dist-packages (from wikipedia) (4.6.3)\n",
            "Requirement already satisfied: idna<3,>=2.5 in /usr/local/lib/python3.7/dist-packages (from requests<3.0.0,>=2.0.0->wikipedia) (2.10)\n",
            "Requirement already satisfied: chardet<4,>=3.0.2 in /usr/local/lib/python3.7/dist-packages (from requests<3.0.0,>=2.0.0->wikipedia) (3.0.4)\n",
            "Requirement already satisfied: urllib3!=1.25.0,!=1.25.1,<1.26,>=1.21.1 in /usr/local/lib/python3.7/dist-packages (from requests<3.0.0,>=2.0.0->wikipedia) (1.24.3)\n",
            "Requirement already satisfied: certifi>=2017.4.17 in /usr/local/lib/python3.7/dist-packages (from requests<3.0.0,>=2.0.0->wikipedia) (2021.5.30)\n"
          ],
          "name": "stdout"
        }
      ]
    },
    {
      "cell_type": "code",
      "metadata": {
        "id": "0ZQuJauMO8hr"
      },
      "source": [
        "import wikipedia"
      ],
      "execution_count": null,
      "outputs": []
    },
    {
      "cell_type": "markdown",
      "metadata": {
        "id": "9Tie4L_yxLPm"
      },
      "source": [
        "#Dili Türkçe olarak ayarlarız"
      ]
    },
    {
      "cell_type": "code",
      "metadata": {
        "id": "_gq0OrV6PI8Q"
      },
      "source": [
        "wikipedia.set_lang(\"tr\")"
      ],
      "execution_count": null,
      "outputs": []
    },
    {
      "cell_type": "code",
      "metadata": {
        "colab": {
          "base_uri": "https://localhost:8080/",
          "height": 458
        },
        "id": "PQYxhn47QQoR",
        "outputId": "110b1562-32f6-4426-f573-5e7d68195448"
      },
      "source": [
        "wikipedia.summary(\"Cezeri\", sentences=1)"
      ],
      "execution_count": null,
      "outputs": [
        {
          "output_type": "stream",
          "text": [
            "/usr/local/lib/python3.7/dist-packages/wikipedia/wikipedia.py:389: UserWarning: No parser was explicitly specified, so I'm using the best available HTML parser for this system (\"lxml\"). This usually isn't a problem, but if you run this code on another system, or in a different virtual environment, it may use a different parser and behave differently.\n",
            "\n",
            "The code that caused this warning is on line 389 of the file /usr/local/lib/python3.7/dist-packages/wikipedia/wikipedia.py. To get rid of this warning, pass the additional argument 'features=\"lxml\"' to the BeautifulSoup constructor.\n",
            "\n",
            "  lis = BeautifulSoup(html).find_all('li')\n"
          ],
          "name": "stderr"
        },
        {
          "output_type": "error",
          "ename": "DisambiguationError",
          "evalue": "ignored",
          "traceback": [
            "\u001b[0;31m---------------------------------------------------------------------------\u001b[0m",
            "\u001b[0;31mDisambiguationError\u001b[0m                       Traceback (most recent call last)",
            "\u001b[0;32m<ipython-input-4-991979d57150>\u001b[0m in \u001b[0;36m<module>\u001b[0;34m()\u001b[0m\n\u001b[0;32m----> 1\u001b[0;31m \u001b[0mwikipedia\u001b[0m\u001b[0;34m.\u001b[0m\u001b[0msummary\u001b[0m\u001b[0;34m(\u001b[0m\u001b[0;34m\"Cezeri\"\u001b[0m\u001b[0;34m,\u001b[0m \u001b[0msentences\u001b[0m\u001b[0;34m=\u001b[0m\u001b[0;36m1\u001b[0m\u001b[0;34m)\u001b[0m\u001b[0;34m\u001b[0m\u001b[0;34m\u001b[0m\u001b[0m\n\u001b[0m",
            "\u001b[0;32m/usr/local/lib/python3.7/dist-packages/wikipedia/util.py\u001b[0m in \u001b[0;36m__call__\u001b[0;34m(self, *args, **kwargs)\u001b[0m\n\u001b[1;32m     26\u001b[0m       \u001b[0mret\u001b[0m \u001b[0;34m=\u001b[0m \u001b[0mself\u001b[0m\u001b[0;34m.\u001b[0m\u001b[0m_cache\u001b[0m\u001b[0;34m[\u001b[0m\u001b[0mkey\u001b[0m\u001b[0;34m]\u001b[0m\u001b[0;34m\u001b[0m\u001b[0;34m\u001b[0m\u001b[0m\n\u001b[1;32m     27\u001b[0m     \u001b[0;32melse\u001b[0m\u001b[0;34m:\u001b[0m\u001b[0;34m\u001b[0m\u001b[0;34m\u001b[0m\u001b[0m\n\u001b[0;32m---> 28\u001b[0;31m       \u001b[0mret\u001b[0m \u001b[0;34m=\u001b[0m \u001b[0mself\u001b[0m\u001b[0;34m.\u001b[0m\u001b[0m_cache\u001b[0m\u001b[0;34m[\u001b[0m\u001b[0mkey\u001b[0m\u001b[0;34m]\u001b[0m \u001b[0;34m=\u001b[0m \u001b[0mself\u001b[0m\u001b[0;34m.\u001b[0m\u001b[0mfn\u001b[0m\u001b[0;34m(\u001b[0m\u001b[0;34m*\u001b[0m\u001b[0margs\u001b[0m\u001b[0;34m,\u001b[0m \u001b[0;34m**\u001b[0m\u001b[0mkwargs\u001b[0m\u001b[0;34m)\u001b[0m\u001b[0;34m\u001b[0m\u001b[0;34m\u001b[0m\u001b[0m\n\u001b[0m\u001b[1;32m     29\u001b[0m \u001b[0;34m\u001b[0m\u001b[0m\n\u001b[1;32m     30\u001b[0m     \u001b[0;32mreturn\u001b[0m \u001b[0mret\u001b[0m\u001b[0;34m\u001b[0m\u001b[0;34m\u001b[0m\u001b[0m\n",
            "\u001b[0;32m/usr/local/lib/python3.7/dist-packages/wikipedia/wikipedia.py\u001b[0m in \u001b[0;36msummary\u001b[0;34m(title, sentences, chars, auto_suggest, redirect)\u001b[0m\n\u001b[1;32m    229\u001b[0m   \u001b[0;31m# use auto_suggest and redirect to get the correct article\u001b[0m\u001b[0;34m\u001b[0m\u001b[0;34m\u001b[0m\u001b[0;34m\u001b[0m\u001b[0m\n\u001b[1;32m    230\u001b[0m   \u001b[0;31m# also, use page's error checking to raise DisambiguationError if necessary\u001b[0m\u001b[0;34m\u001b[0m\u001b[0;34m\u001b[0m\u001b[0;34m\u001b[0m\u001b[0m\n\u001b[0;32m--> 231\u001b[0;31m   \u001b[0mpage_info\u001b[0m \u001b[0;34m=\u001b[0m \u001b[0mpage\u001b[0m\u001b[0;34m(\u001b[0m\u001b[0mtitle\u001b[0m\u001b[0;34m,\u001b[0m \u001b[0mauto_suggest\u001b[0m\u001b[0;34m=\u001b[0m\u001b[0mauto_suggest\u001b[0m\u001b[0;34m,\u001b[0m \u001b[0mredirect\u001b[0m\u001b[0;34m=\u001b[0m\u001b[0mredirect\u001b[0m\u001b[0;34m)\u001b[0m\u001b[0;34m\u001b[0m\u001b[0;34m\u001b[0m\u001b[0m\n\u001b[0m\u001b[1;32m    232\u001b[0m   \u001b[0mtitle\u001b[0m \u001b[0;34m=\u001b[0m \u001b[0mpage_info\u001b[0m\u001b[0;34m.\u001b[0m\u001b[0mtitle\u001b[0m\u001b[0;34m\u001b[0m\u001b[0;34m\u001b[0m\u001b[0m\n\u001b[1;32m    233\u001b[0m   \u001b[0mpageid\u001b[0m \u001b[0;34m=\u001b[0m \u001b[0mpage_info\u001b[0m\u001b[0;34m.\u001b[0m\u001b[0mpageid\u001b[0m\u001b[0;34m\u001b[0m\u001b[0;34m\u001b[0m\u001b[0m\n",
            "\u001b[0;32m/usr/local/lib/python3.7/dist-packages/wikipedia/wikipedia.py\u001b[0m in \u001b[0;36mpage\u001b[0;34m(title, pageid, auto_suggest, redirect, preload)\u001b[0m\n\u001b[1;32m    274\u001b[0m         \u001b[0;31m# if there is no suggestion or search results, the page doesn't exist\u001b[0m\u001b[0;34m\u001b[0m\u001b[0;34m\u001b[0m\u001b[0;34m\u001b[0m\u001b[0m\n\u001b[1;32m    275\u001b[0m         \u001b[0;32mraise\u001b[0m \u001b[0mPageError\u001b[0m\u001b[0;34m(\u001b[0m\u001b[0mtitle\u001b[0m\u001b[0;34m)\u001b[0m\u001b[0;34m\u001b[0m\u001b[0;34m\u001b[0m\u001b[0m\n\u001b[0;32m--> 276\u001b[0;31m     \u001b[0;32mreturn\u001b[0m \u001b[0mWikipediaPage\u001b[0m\u001b[0;34m(\u001b[0m\u001b[0mtitle\u001b[0m\u001b[0;34m,\u001b[0m \u001b[0mredirect\u001b[0m\u001b[0;34m=\u001b[0m\u001b[0mredirect\u001b[0m\u001b[0;34m,\u001b[0m \u001b[0mpreload\u001b[0m\u001b[0;34m=\u001b[0m\u001b[0mpreload\u001b[0m\u001b[0;34m)\u001b[0m\u001b[0;34m\u001b[0m\u001b[0;34m\u001b[0m\u001b[0m\n\u001b[0m\u001b[1;32m    277\u001b[0m   \u001b[0;32melif\u001b[0m \u001b[0mpageid\u001b[0m \u001b[0;32mis\u001b[0m \u001b[0;32mnot\u001b[0m \u001b[0;32mNone\u001b[0m\u001b[0;34m:\u001b[0m\u001b[0;34m\u001b[0m\u001b[0;34m\u001b[0m\u001b[0m\n\u001b[1;32m    278\u001b[0m     \u001b[0;32mreturn\u001b[0m \u001b[0mWikipediaPage\u001b[0m\u001b[0;34m(\u001b[0m\u001b[0mpageid\u001b[0m\u001b[0;34m=\u001b[0m\u001b[0mpageid\u001b[0m\u001b[0;34m,\u001b[0m \u001b[0mpreload\u001b[0m\u001b[0;34m=\u001b[0m\u001b[0mpreload\u001b[0m\u001b[0;34m)\u001b[0m\u001b[0;34m\u001b[0m\u001b[0;34m\u001b[0m\u001b[0m\n",
            "\u001b[0;32m/usr/local/lib/python3.7/dist-packages/wikipedia/wikipedia.py\u001b[0m in \u001b[0;36m__init__\u001b[0;34m(self, title, pageid, redirect, preload, original_title)\u001b[0m\n\u001b[1;32m    297\u001b[0m       \u001b[0;32mraise\u001b[0m \u001b[0mValueError\u001b[0m\u001b[0;34m(\u001b[0m\u001b[0;34m\"Either a title or a pageid must be specified\"\u001b[0m\u001b[0;34m)\u001b[0m\u001b[0;34m\u001b[0m\u001b[0;34m\u001b[0m\u001b[0m\n\u001b[1;32m    298\u001b[0m \u001b[0;34m\u001b[0m\u001b[0m\n\u001b[0;32m--> 299\u001b[0;31m     \u001b[0mself\u001b[0m\u001b[0;34m.\u001b[0m\u001b[0m__load\u001b[0m\u001b[0;34m(\u001b[0m\u001b[0mredirect\u001b[0m\u001b[0;34m=\u001b[0m\u001b[0mredirect\u001b[0m\u001b[0;34m,\u001b[0m \u001b[0mpreload\u001b[0m\u001b[0;34m=\u001b[0m\u001b[0mpreload\u001b[0m\u001b[0;34m)\u001b[0m\u001b[0;34m\u001b[0m\u001b[0;34m\u001b[0m\u001b[0m\n\u001b[0m\u001b[1;32m    300\u001b[0m \u001b[0;34m\u001b[0m\u001b[0m\n\u001b[1;32m    301\u001b[0m     \u001b[0;32mif\u001b[0m \u001b[0mpreload\u001b[0m\u001b[0;34m:\u001b[0m\u001b[0;34m\u001b[0m\u001b[0;34m\u001b[0m\u001b[0m\n",
            "\u001b[0;32m/usr/local/lib/python3.7/dist-packages/wikipedia/wikipedia.py\u001b[0m in \u001b[0;36m__load\u001b[0;34m(self, redirect, preload)\u001b[0m\n\u001b[1;32m    391\u001b[0m       \u001b[0mmay_refer_to\u001b[0m \u001b[0;34m=\u001b[0m \u001b[0;34m[\u001b[0m\u001b[0mli\u001b[0m\u001b[0;34m.\u001b[0m\u001b[0ma\u001b[0m\u001b[0;34m.\u001b[0m\u001b[0mget_text\u001b[0m\u001b[0;34m(\u001b[0m\u001b[0;34m)\u001b[0m \u001b[0;32mfor\u001b[0m \u001b[0mli\u001b[0m \u001b[0;32min\u001b[0m \u001b[0mfiltered_lis\u001b[0m \u001b[0;32mif\u001b[0m \u001b[0mli\u001b[0m\u001b[0;34m.\u001b[0m\u001b[0ma\u001b[0m\u001b[0;34m]\u001b[0m\u001b[0;34m\u001b[0m\u001b[0;34m\u001b[0m\u001b[0m\n\u001b[1;32m    392\u001b[0m \u001b[0;34m\u001b[0m\u001b[0m\n\u001b[0;32m--> 393\u001b[0;31m       \u001b[0;32mraise\u001b[0m \u001b[0mDisambiguationError\u001b[0m\u001b[0;34m(\u001b[0m\u001b[0mgetattr\u001b[0m\u001b[0;34m(\u001b[0m\u001b[0mself\u001b[0m\u001b[0;34m,\u001b[0m \u001b[0;34m'title'\u001b[0m\u001b[0;34m,\u001b[0m \u001b[0mpage\u001b[0m\u001b[0;34m[\u001b[0m\u001b[0;34m'title'\u001b[0m\u001b[0;34m]\u001b[0m\u001b[0;34m)\u001b[0m\u001b[0;34m,\u001b[0m \u001b[0mmay_refer_to\u001b[0m\u001b[0;34m)\u001b[0m\u001b[0;34m\u001b[0m\u001b[0;34m\u001b[0m\u001b[0m\n\u001b[0m\u001b[1;32m    394\u001b[0m \u001b[0;34m\u001b[0m\u001b[0m\n\u001b[1;32m    395\u001b[0m     \u001b[0;32melse\u001b[0m\u001b[0;34m:\u001b[0m\u001b[0;34m\u001b[0m\u001b[0;34m\u001b[0m\u001b[0m\n",
            "\u001b[0;31mDisambiguationError\u001b[0m: \"Cezeri\" may refer to: \nİbn-i Cezerî\nEl-Cezeri"
          ]
        }
      ]
    },
    {
      "cell_type": "code",
      "metadata": {
        "colab": {
          "base_uri": "https://localhost:8080/",
          "height": 35
        },
        "id": "9LB0y1VfoNrZ",
        "outputId": "083e2ee0-3434-40ad-e4cf-39ab57df1162"
      },
      "source": [
        "wikipedia.summary(\"El-Cezeri\", sentences=1)"
      ],
      "execution_count": null,
      "outputs": [
        {
          "output_type": "execute_result",
          "data": {
            "application/vnd.google.colaboratory.intrinsic+json": {
              "type": "string"
            },
            "text/plain": [
              "'Ebû’l İz İsmail İbni Rezzaz El Cezerî (d.'"
            ]
          },
          "metadata": {},
          "execution_count": 5
        }
      ]
    },
    {
      "cell_type": "code",
      "metadata": {
        "colab": {
          "base_uri": "https://localhost:8080/",
          "height": 281
        },
        "id": "-QA4bvE8QW4T",
        "outputId": "7878afd2-ec06-4193-c794-453e70a5954e"
      },
      "source": [
        "wikipedia.summary(\"El-Cezeri\", sentences=10)"
      ],
      "execution_count": null,
      "outputs": [
        {
          "output_type": "execute_result",
          "data": {
            "application/vnd.google.colaboratory.intrinsic+json": {
              "type": "string"
            },
            "text/plain": [
              "'Ebû’l İz İsmail İbni Rezzaz El Cezerî (d. 1136, Cizre, Şırnak; ö. 1206, Cizre), (Arapça: (أَبُو اَلْعِزِ  إسْماعِيلِ بْنُ الرِّزاز الجزري), İslam\\'ın Altın Çağında çalışmalar yapan Müslüman, hezârfen, mucit ve mühendis. Sibernetiğin ilk adımlarını attığı ve ilk robotu yapıp çalıştırdığı kabul edilen El Cezeri\\'nin Leonardo da Vinci\\'ye ilham kaynağı olduğu düşünülür.\\n\\n\\n== Hayatı ==\\n1136 yılında Cizre\\'nin Tor mahallesinde doğmuştur. Sibernetik alanın kurucusu kabul edilen, fizikçi, robot ve matrix ustası bilim insanı El-Cezeri 1206\\'da Cizre\\'de öldü. Lakabını yaşadığı şehirden alan El Cezeri, öğrenimini Camia Medresesi\\'nde tamamlayarak, fizik ve mekanik alanlarında yoğunlaştı ve pek çok ilke ve buluşa imza attı.\\nBatı yazınında M.Ö. 300 yıllarında Yunan matematikçi Archytas tarafından buharla çalışan bir güvercin yapılmış olduğu belirtilse de, robotikle ilgili bilinen en eski yazılı kayıt, Cezeri\\'ye aittir.Bir çalışmaya göre El-Cezeri bir zanaatkâr geleneğinin parçasıydı ve bu nedenle bir mucitten daha çok, cihazların teknolojisinden ziyade işçiliğine ilgi duyan, pratik bir mühendisdi ve makineleri genellikle teorik hesaplama yerine deneme yanılma yoluyla ortaya çıkardı. Otto Mayr\\'a göre kitapların tarzı modern anlamda \"kendin yap\" kitaplarına benziyor.Dünya bilim tarihi açısından bugünkü sibernetik ve robot biliminde çalışmalar yapan ilk bilim insanı olan Cezeri\\'nin yaptığı otomatik makineler günümüz mekanik ve sibernetik bilimlerinin temel taşlarını oluşturmaktadır. \"Mekanik Hareketlerden Mühendislikte Faydalanmayı İçeren Kitap\" (El Câmi-u’l Beyn’el İlmî ve El-Amelî’en Nâfi fî Sınâ\\'ati\\'l Hiyel, Arapça: بَيْنْ اَلْعِلْمِ وَالْعَمَلِ اَلنَّافِعْ فِي صِناعَةُ الْحِيَلْ) adlı eserinde ortaya koydu.'"
            ]
          },
          "metadata": {},
          "execution_count": 6
        }
      ]
    },
    {
      "cell_type": "code",
      "metadata": {
        "colab": {
          "base_uri": "https://localhost:8080/"
        },
        "id": "dHn5-6ndREbQ",
        "outputId": "96d2ad43-f914-40e6-b923-8e23832e6796"
      },
      "source": [
        "type(wikipedia.summary(\"El-Cezeri\", sentences=20))"
      ],
      "execution_count": null,
      "outputs": [
        {
          "output_type": "execute_result",
          "data": {
            "text/plain": [
              "str"
            ]
          },
          "metadata": {},
          "execution_count": 7
        }
      ]
    },
    {
      "cell_type": "code",
      "metadata": {
        "colab": {
          "base_uri": "https://localhost:8080/",
          "height": 281
        },
        "id": "3IH8AUdgfGfF",
        "outputId": "a5353fb6-76bf-48ce-c335-c94a76d70817"
      },
      "source": [
        "wikipedia.summary(\"El-Cezeri\", 50)"
      ],
      "execution_count": null,
      "outputs": [
        {
          "output_type": "execute_result",
          "data": {
            "application/vnd.google.colaboratory.intrinsic+json": {
              "type": "string"
            },
            "text/plain": [
              "'Ebû’l İz İsmail İbni Rezzaz El Cezerî (d. 1136, Cizre, Şırnak; ö. 1206, Cizre), (Arapça: (أَبُو اَلْعِزِ  إسْماعِيلِ بْنُ الرِّزاز الجزري), İslam\\'ın Altın Çağında çalışmalar yapan Müslüman, hezârfen, mucit ve mühendis. Sibernetiğin ilk adımlarını attığı ve ilk robotu yapıp çalıştırdığı kabul edilen El Cezeri\\'nin Leonardo da Vinci\\'ye ilham kaynağı olduğu düşünülür.\\n\\n\\n== Hayatı ==\\n1136 yılında Cizre\\'nin Tor mahallesinde doğmuştur. Sibernetik alanın kurucusu kabul edilen, fizikçi, robot ve matrix ustası bilim insanı El-Cezeri 1206\\'da Cizre\\'de öldü. Lakabını yaşadığı şehirden alan El Cezeri, öğrenimini Camia Medresesi\\'nde tamamlayarak, fizik ve mekanik alanlarında yoğunlaştı ve pek çok ilke ve buluşa imza attı.\\nBatı yazınında M.Ö. 300 yıllarında Yunan matematikçi Archytas tarafından buharla çalışan bir güvercin yapılmış olduğu belirtilse de, robotikle ilgili bilinen en eski yazılı kayıt, Cezeri\\'ye aittir.Bir çalışmaya göre El-Cezeri bir zanaatkâr geleneğinin parçasıydı ve bu nedenle bir mucitten daha çok, cihazların teknolojisinden ziyade işçiliğine ilgi duyan, pratik bir mühendisdi ve makineleri genellikle teorik hesaplama yerine deneme yanılma yoluyla ortaya çıkardı. Otto Mayr\\'a göre kitapların tarzı modern anlamda \"kendin yap\" kitaplarına benziyor.Dünya bilim tarihi açısından bugünkü sibernetik ve robot biliminde çalışmalar yapan ilk bilim insanı olan Cezeri\\'nin yaptığı otomatik makineler günümüz mekanik ve sibernetik bilimlerinin temel taşlarını oluşturmaktadır. \"Mekanik Hareketlerden Mühendislikte Faydalanmayı İçeren Kitap\" (El Câmi-u’l Beyn’el İlmî ve El-Amelî’en Nâfi fî Sınâ\\'ati\\'l Hiyel, Arapça: بَيْنْ اَلْعِلْمِ وَالْعَمَلِ اَلنَّافِعْ فِي صِناعَةُ الْحِيَلْ) adlı eserinde ortaya koydu.'"
            ]
          },
          "metadata": {},
          "execution_count": 8
        }
      ]
    },
    {
      "cell_type": "code",
      "metadata": {
        "colab": {
          "base_uri": "https://localhost:8080/"
        },
        "id": "VUzeufOugNdY",
        "outputId": "066bcc9e-ad63-4119-caf2-2f0c5ccb60b2"
      },
      "source": [
        "type(wikipedia.page(\"El-Cezeri\"))"
      ],
      "execution_count": null,
      "outputs": [
        {
          "output_type": "execute_result",
          "data": {
            "text/plain": [
              "wikipedia.wikipedia.WikipediaPage"
            ]
          },
          "metadata": {},
          "execution_count": 9
        }
      ]
    },
    {
      "cell_type": "code",
      "metadata": {
        "colab": {
          "base_uri": "https://localhost:8080/"
        },
        "id": "P-xF_r5wggQF",
        "outputId": "3911c099-6510-4240-e7fa-58113f5a29de"
      },
      "source": [
        "my_page_tr = wikipedia.page(\"El-Cezeri\")\n",
        "print(\"title: \"+ my_page_tr.title, \n",
        "      \"\\n url: \"+ my_page_tr.url,\n",
        "      \"\\n content: \"+ my_page_tr.content,\n",
        "      )"
      ],
      "execution_count": null,
      "outputs": [
        {
          "output_type": "stream",
          "text": [
            "title: El-Cezeri \n",
            " url: https://tr.wikipedia.org/wiki/El-Cezeri \n",
            " content: Ebû’l İz İsmail İbni Rezzaz El Cezerî (d. 1136, Cizre, Şırnak; ö. 1206, Cizre), (Arapça: (أَبُو اَلْعِزِ  إسْماعِيلِ بْنُ الرِّزاز الجزري), İslam'ın Altın Çağında çalışmalar yapan Müslüman, hezârfen, mucit ve mühendis. Sibernetiğin ilk adımlarını attığı ve ilk robotu yapıp çalıştırdığı kabul edilen El Cezeri'nin Leonardo da Vinci'ye ilham kaynağı olduğu düşünülür.\n",
            "\n",
            "\n",
            "== Hayatı ==\n",
            "1136 yılında Cizre'nin Tor mahallesinde doğmuştur. Sibernetik alanın kurucusu kabul edilen, fizikçi, robot ve matrix ustası bilim insanı El-Cezeri 1206'da Cizre'de öldü. Lakabını yaşadığı şehirden alan El Cezeri, öğrenimini Camia Medresesi'nde tamamlayarak, fizik ve mekanik alanlarında yoğunlaştı ve pek çok ilke ve buluşa imza attı.\n",
            "Batı yazınında M.Ö. 300 yıllarında Yunan matematikçi Archytas tarafından buharla çalışan bir güvercin yapılmış olduğu belirtilse de, robotikle ilgili bilinen en eski yazılı kayıt, Cezeri'ye aittir.Bir çalışmaya göre El-Cezeri bir zanaatkâr geleneğinin parçasıydı ve bu nedenle bir mucitten daha çok, cihazların teknolojisinden ziyade işçiliğine ilgi duyan, pratik bir mühendisdi ve makineleri genellikle teorik hesaplama yerine deneme yanılma yoluyla ortaya çıkardı. Otto Mayr'a göre kitapların tarzı modern anlamda \"kendin yap\" kitaplarına benziyor.Dünya bilim tarihi açısından bugünkü sibernetik ve robot biliminde çalışmalar yapan ilk bilim insanı olan Cezeri'nin yaptığı otomatik makineler günümüz mekanik ve sibernetik bilimlerinin temel taşlarını oluşturmaktadır. \"Mekanik Hareketlerden Mühendislikte Faydalanmayı İçeren Kitap\" (El Câmi-u’l Beyn’el İlmî ve El-Amelî’en Nâfi fî Sınâ'ati'l Hiyel, Arapça: بَيْنْ اَلْعِلْمِ وَالْعَمَلِ اَلنَّافِعْ فِي صِناعَةُ الْحِيَلْ) adlı eserinde ortaya koydu. 50'den fazla cihazın kullanım esaslarını, yararlanma olanaklarını çizimlerle gösterdiği bu kitapta Cezeri, tatbikata çevrilmeyen her teknik ilmin, doğru ile yanlış arasında kalacağını söyler. Bu kitabın özgün kopyası günümüze kadar ulaşamadıysa da bazı kopyaları Kuzey Amerika ve Avrupa'daki bazı kütüphaneler ve müzelerde bulunmaktadır. Kendi tarafından yazılmış bir kaç icadını anlatan orijinal eserler ise dünyanın çeşitli yerlerinde bulunmaktadır. Günümüze ulaşmış en eski el yazması İstanbul'da bulunan Topkapı Sarayı'ndaki \"Olağanüstü mekanik araçların bilgisi hakkında kitap\" adlı eseridir. Diğer eserleri ise; Bodleian Kütüphanesi, Leiden Üniversitesi Kütüphanesi, Chester Beatty Kütüphanesi ve Avrupa'nın birkaç başka kütüphane ve müzesinde bulunmaktadır.Kısaca Kitab-ül Hiyel adıyla bilinen eseri altı bölümden oluşur. Birinci bölümde binkam (su saati) ile finkanların (kandilli su saati) saat-ı müsteviye ve saat-ı zamaniye olarak nasıl yapılacağı hakkında on şekil; ikinci bölümde çeşitli kap kacakların yapılışı hakkında on şekil, üçüncü bölümde hacamat ve abdestle ilgili ibrik ve tasların yapılması hakkında on şekil; dördüncü bölümde havuzlar ve fıskiyeler ile müzik otomatları hakkında on şekil; beşinci bölümde çok derin olmayan bir kuyudan veya akan bir nehirden suyu yükselten aletler hakkında 5 şekil; 6. bölümde birbirine benzemeyen muhtelif şekillerin yapılışı hakkında 5 şekil yer alır.\n",
            "Teorik çalışmalardan çok pratik ve el yordamıyla deneysel çalışmalar yapan Cezeri'nin kullandığı bir başka yöntem de yapacağı cihazların önceden kâğıttan maketlerini inşa edip geometri kurallarından yararlanmaktı. İlk hesap makinesinden asırlar önce aynı sistemle çalışan benzer bir mekanizmayı, geliştirdiği saatte kullanan Cezeri, sadece otomatik sistemler kurmakla kalmamış, otomatik olarak çalışan sistemler arasında denge kurmayı da başarmıştı.\n",
            "Cezeri, otomatik kontrollü makinelerin ilki sayılan Jacquard'ın otomatik dokuma tezgâhından 600 yıl önce değişik haznelerdeki suyun seviyesine göre ne zaman su dökeceğine, ne zaman meyve ve içecek sunacağına karar veren otomatik hizmetçiyi geliştirdi. Bazı makinelerinde hidro mekanik etkilerle denge kurma ve harekette bulunma sistemine yönelen Cezeri, bazılarında ise şamandıra ve palangalar arasında dişli çarklar kullanarak karşılıklı etkileme sistemini kurmaya çalıştı. Kendiliğinden çalışan otomatik sistemlerden sonra su gücü ve basınç etkisinden yararlanarak kendi kendine denge kuran ve ayarlama yapan dengeyi oluşturması, Cezeri'nin otomasyon konusundaki en önemli katkısıdır.\n",
            "Fizikçi ve mekanikçi El Cezeri'nin diğer bir eseri de Diyarbakır Ulu Camii'nin ünlü güneş saatidir.\n",
            "\n",
            "\n",
            "== Eserleri ==\n",
            "Kitāb fi ma-'rifat al-Hiyal al-handasiyya (Arapça: الجامع بين العلم والعمل النافع في صناعة الحيل , Kitāb fi ma-'rifat al-Hiyal al-handasiyya) 1206 yılında bu eserini tamamlamıştır.\n",
            "Kitâb-ül-Câmi Beyn-el-İlmi vel-Amel-in-Nâfî fî Sınâat-il-Hiyel, (Arapça: بَيْنْ اَلْعِلْمِ وَالْعَمَلِ اَلنَّافِعْ فِي صِناعَةُ الْحِيَلْ , El Câmi-u’l Beyn’el İlmî El-Amelî’en Nâfi fî Sınâ'ati’l Hiyel) \"Makine Yapımında Yararlı Bilgiler ve Uygulamalar\" olarak adlandırmıştır.\n",
            "\n",
            "\n",
            "== Galeri ==\n",
            "\n",
            "\t\t\n",
            "\t\t\n",
            "\t\t\n",
            "\t\t\n",
            "\t\t\n",
            "\t\t\n",
            "\t\t\n",
            "\t\t\n",
            "\n",
            "\n",
            "== Kaynakça ==\n",
            "\n",
            "\n",
            "== İleri Okuma ==\n",
            "Al Jazari's Book – The Book Of Knowledge Of Ingenious Mechanical Devices - Google Play Book: https://play.google.com/store/books/details?id=dLdxDAAAQBAJ21 Haziran 2016 tarihinde Wayback Machine sitesinde arşivlendi.\n",
            "Donald R. Hill, The Book of Knowledge of Ingenious Mechanical Devices by Ibn al-Razzaz al-Jazari, 1974.[1]22 Eylül 2014 tarihinde Wayback Machine sitesinde arşivlendi. (İngilizce)\n",
            "Al-Jazarí, The Book of Knowledge of Ingenious Mechanical Devices: Kitáb fí ma'rifat al-hiyal al-handasiyya, Springer, 1973 edition.[2]29 Mayıs 2016 tarihinde Wayback Machine sitesinde arşivlendi. (İngilizce)\n",
            "Sevim Tekeli, Melek Dosay ve Yavuz Unat, Cezeri, el-Câmi beyne’l-İlm ve’l-Amel en-Nâfi Fî Sınaâti’l-Hiyel, Türk Tarih Kurumu, 2002. (Türkçe)\n"
          ],
          "name": "stdout"
        }
      ]
    },
    {
      "cell_type": "code",
      "metadata": {
        "colab": {
          "base_uri": "https://localhost:8080/"
        },
        "id": "F16_aufCveYi",
        "outputId": "54e8d7d6-f4af-40ae-92bd-a90f26818873"
      },
      "source": [
        "len(my_page_tr.links)"
      ],
      "execution_count": null,
      "outputs": [
        {
          "output_type": "execute_result",
          "data": {
            "text/plain": [
              "184"
            ]
          },
          "metadata": {},
          "execution_count": 11
        }
      ]
    },
    {
      "cell_type": "code",
      "metadata": {
        "colab": {
          "base_uri": "https://localhost:8080/"
        },
        "id": "XoPZDjgRjc27",
        "outputId": "22830e3d-0931-4664-9ab6-7963d40c6a2a"
      },
      "source": [
        "for cat in my_page_tr.categories:\n",
        "  print(cat)\n",
        "\n"
      ],
      "execution_count": null,
      "outputs": [
        {
          "output_type": "stream",
          "text": [
            "Kategori:1136 doğumlular\n",
            "Kategori:1206 yılında ölenler\n",
            "Kategori:Artuklu Beyliği\n",
            "Kategori:BNF tanımlayıcısı olan Vikipedi maddeleri\n",
            "Kategori:Cizre doğumlular\n",
            "Kategori:Commons kategori bağlantısı Vikiveri'de tanımlı olan sayfalar\n",
            "Kategori:Eyyubiler'de kişiler\n",
            "Kategori:GND tanımlayıcısı olan Vikipedi maddeleri\n",
            "Kategori:ISNI tanımlayıcısı olan Vikipedi maddeleri\n",
            "Kategori:KB1 İngilizce kaynakları (en)\n",
            "Kategori:Kaynaksız anlatımlar içeren maddeler\n",
            "Kategori:LCCN tanımlayıcısı olan Vikipedi maddeleri\n",
            "Kategori:Makine mühendisleri\n",
            "Kategori:Metin içi kaynakları olmayan maddeler Haziran 2016\n",
            "Kategori:Metin içi kaynakları olmayan tüm maddeler\n",
            "Kategori:NLP tanımlayıcısı olan Vikipedi maddeleri\n",
            "Kategori:NTA tanımlayıcısı olan Vikipedi maddeleri\n",
            "Kategori:Orta Çağ Müslüman astronomları\n",
            "Kategori:SELIBR tanımlayıcısı olan Vikipedi maddeleri\n",
            "Kategori:SUDOC tanımlayıcısı olan Vikipedi maddeleri\n",
            "Kategori:TDVİA tanımlayıcısı olan Vikipedi maddeleri\n",
            "Kategori:VIAF tanımlayıcısı olan Vikipedi maddeleri\n",
            "Kategori:Webarşiv şablonu wayback bağlantıları\n",
            "Kategori:WorldCat tanımlayıcısı içeren Vikipedi maddeleri\n"
          ],
          "name": "stdout"
        }
      ]
    },
    {
      "cell_type": "code",
      "metadata": {
        "colab": {
          "base_uri": "https://localhost:8080/"
        },
        "id": "x67SSQyHg4x5",
        "outputId": "0b1f7cce-f051-4af7-bfef-3e5d6fe46815"
      },
      "source": [
        "my_page_tr.references"
      ],
      "execution_count": null,
      "outputs": [
        {
          "output_type": "execute_result",
          "data": {
            "text/plain": [
              "['http://books.google.ca/books?id=73OZi_L_CdkC&pg=PA1&dq=aljazari+arab&hl=en&sa=X&ei=-UhWT4yVA4HXqgG18o2FAg&ved=0CEMQ6AEwAA#v=onepage&q&f=false',\n",
              " 'http://books.google.ca/books?id=IaM9AAAAIAAJ&pg=PA216&dq=jazari&hl=en&sa=X&ei=DcZYT67MIorj0QGch-WZDw&ved=0CDIQ6AEwAA#v=onepage&q=jazari&f=false',\n",
              " 'http://www.amazon.com/gp/product/9027703299',\n",
              " 'http://books.google.com/books?id=jGShLU3xKsgC',\n",
              " 'http://data.bibliotheken.nl/id/thes/p073317292',\n",
              " 'http://doi.org/10.1017/S0041977X00047182',\n",
              " 'http://isni.org/isni/0000000081038836',\n",
              " 'http://books.google.com.tr/books?id=4FBXvfLySQwC&pg=PA384&dq=al-jazari&hl=tr&sa=X&ei=tCV5UcHhAYXGPLW1gJAE&ved=0CEIQ6AEwAzge#v=onepage&q=al-jazari&f=false',\n",
              " 'http://books.google.com.tr/books?id=73OZi_L_CdkC&pg=PA1&dq=al-jazari&hl=tr&sa=X&ei=2c1yUcmCIobVsgbpr4DoDA&ved=0CC0Q6AEwAA#v=onepage&q=al-jazari&f=false',\n",
              " 'http://books.google.com.tr/books?id=BENi4BfMnl8C&pg=PA45&dq=al-jazari&hl=tr&sa=X&ei=3B55UYaGA4SbPcnkgKAJ&ved=0CEUQ6AEwBQ#v=onepage&q=al-jazari&f=false',\n",
              " 'http://books.google.com.tr/books?id=FrGwIIvKSxUC&pg=PA21&dq=al-jazari&hl=tr&sa=X&ei=miJ5UbK-Ko6wPLqCgdAJ&ved=0CFwQ6AEwCTgU#v=onepage&q=al-jazari&f=false',\n",
              " 'http://books.google.com.tr/books?id=MdpAo6SaOL0C&printsec=frontcover&hl=tr#v=onepage&q=al-jazari&f=false',\n",
              " 'http://books.google.com.tr/books?id=i0KYzOISv_4C&pg=PA429&dq=al-jazari&hl=tr&sa=X&ei=0M5yUcGNHY3Iswb6xYHoCA&ved=0CDwQ6AEwAw#v=snippet&q=al-jazari&f=false',\n",
              " 'http://books.google.com.tr/books?id=oEjNaFiTyqUC&pg=PA35&dq=al-jazari&hl=tr&sa=X&ei=0M5yUcGNHY3Iswb6xYHoCA&ved=0CDUQ6AEwAQ#v=onepage&q=al-jazari&f=false',\n",
              " 'https://referenceworks.brillonline.com/entries/encyclopaedia-of-islam-3/ibn-al-jazari-COM_30840',\n",
              " 'https://www.britannica.com/biography/al-Jazari',\n",
              " 'https://play.google.com/store/books/details?id=dLdxDAAAQBAJ21',\n",
              " 'https://link.springer.com/chapter/10.1007%2F978-94-010-2573-7_1',\n",
              " 'https://catalogue.bnf.fr/ark:/12148/cb14511571x',\n",
              " 'https://data.bnf.fr/ark:/12148/cb14511571x',\n",
              " 'https://www.idref.fr/072508280',\n",
              " 'https://id.loc.gov/authorities/names/n80013610',\n",
              " 'https://d-nb.info/gnd/119048973',\n",
              " 'https://books.google.nl/books?id=oEjNaFiTyqUC&pg=PA35&dq=Jazari+born+upper+mesopotamia&hl=en&sa=X&ved=0ahUKEwii54iazMXoAhWvM-wKHXBhCiUQ6AEIKDAA#v=onepage&q=Jazari%20born%20upper%20mesopotamia&f=false',\n",
              " 'https://web.archive.org/web/20131006141431/http://books.google.com.tr/books?id=BENi4BfMnl8C&pg=PA45&dq=al-jazari&hl=tr&sa=X&ei=3B55UYaGA4SbPcnkgKAJ&ved=0CEUQ6AEwBQ#v=onepage&q=al-jazari&f=false',\n",
              " 'https://web.archive.org/web/20131205144554/http://books.google.com.tr/books?id=FrGwIIvKSxUC&pg=PA21&dq=al-jazari&hl=tr&sa=X&ei=miJ5UbK-Ko6wPLqCgdAJ&ved=0CFwQ6AEwCTgU#v=onepage&q=al-jazari&f=false',\n",
              " 'https://web.archive.org/web/20131205163453/http://books.google.com.tr/books?id=4FBXvfLySQwC&pg=PA384&dq=al-jazari&hl=tr&sa=X&ei=tCV5UcHhAYXGPLW1gJAE&ved=0CEIQ6AEwAzge#v=onepage&q=al-jazari&f=false',\n",
              " 'https://web.archive.org/web/20140922182710/http://books.google.com/books?id=jGShLU3xKsgC',\n",
              " 'https://web.archive.org/web/20150906092041/https://www.britannica.com/biography/al-Jazari',\n",
              " 'https://web.archive.org/web/20160529195112/http://www.amazon.com/gp/product/9027703299',\n",
              " 'https://web.archive.org/web/20160621115312/https://play.google.com/store/books/details?id=dLdxDAAAQBAJ',\n",
              " 'https://web.archive.org/web/20171112021609/https://books.google.com.tr/books?id=i0KYzOISv_4C&pg=PA429&dq=al-jazari&hl=tr&sa=X&ei=0M5yUcGNHY3Iswb6xYHoCA&ved=0CDwQ6AEwAw#v=snippet&q=al-jazari&f=false',\n",
              " 'https://web.archive.org/web/20171112021611/https://books.google.com.tr/books?id=oEjNaFiTyqUC&pg=PA35&dq=al-jazari&hl=tr&sa=X&ei=0M5yUcGNHY3Iswb6xYHoCA&ved=0CDUQ6AEwAQ#v=onepage&q=al-jazari&f=false',\n",
              " 'https://web.archive.org/web/20171112021640/https://books.google.ca/books?id=73OZi_L_CdkC&pg=PA1&dq=aljazari+arab&hl=en&sa=X&ei=-UhWT4yVA4HXqgG18o2FAg&ved=0CEMQ6AEwAA#v=onepage&q&f=false',\n",
              " 'https://web.archive.org/web/20171112021929/https://books.google.ca/books?id=IaM9AAAAIAAJ&pg=PA216&dq=jazari&hl=en&sa=X&ei=DcZYT67MIorj0QGch-WZDw&ved=0CDIQ6AEwAA#v=onepage&q=jazari&f=false',\n",
              " 'https://web.archive.org/web/20171112074249/https://books.google.com.tr/books?id=73OZi_L_CdkC&pg=PA1&dq=al-jazari&hl=tr&sa=X&ei=2c1yUcmCIobVsgbpr4DoDA&ved=0CC0Q6AEwAA#v=onepage&q=al-jazari&f=false',\n",
              " 'https://web.archive.org/web/20180120182059/https://books.google.com.tr/books?id=MdpAo6SaOL0C&printsec=frontcover&hl=tr#v=onepage&q=al-jazari&f=false',\n",
              " 'https://web.archive.org/web/20180604153957/https://link.springer.com/chapter/10.1007%2F978-94-010-2573-7_1',\n",
              " 'https://web.archive.org/web/20190223095622/https://core.ac.uk/download/pdf/83531212.pdf',\n",
              " 'https://web.archive.org/web/20201004200654/https://referenceworks.brillonline.com/entries/encyclopaedia-of-islam-3/ibn-al-jazari-COM_30840',\n",
              " 'https://viaf.org/viaf/9369147270718535700008',\n",
              " 'https://www.wikidata.org/wiki/Q81627#',\n",
              " 'https://tools.wmflabs.org/wikidata-externalid-url?p=1695&id=A36509012',\n",
              " 'https://www.worldcat.org/identities/lccn-n80013610',\n",
              " 'https://libris.kb.se/auth/33007',\n",
              " 'https://islamansiklopedisi.org.tr/cezeri-ismail-b-rezzaz',\n",
              " 'https://core.ac.uk/download/pdf/83531212.pdf']"
            ]
          },
          "metadata": {},
          "execution_count": 13
        }
      ]
    },
    {
      "cell_type": "code",
      "metadata": {
        "colab": {
          "base_uri": "https://localhost:8080/"
        },
        "id": "LRff7Dy4qBwF",
        "outputId": "11d845f7-7634-40ec-a828-9cff78a6974e"
      },
      "source": [
        "my_page_tr.images"
      ],
      "execution_count": null,
      "outputs": [
        {
          "output_type": "execute_result",
          "data": {
            "text/plain": [
              "['https://upload.wikimedia.org/wikipedia/commons/1/17/Al-Djazari_automate_verseur_de_vin.jpg',\n",
              " 'https://upload.wikimedia.org/wikipedia/commons/b/b2/Al-Jazari_-_A_Candle_Clock.jpg',\n",
              " 'https://upload.wikimedia.org/wikipedia/commons/c/ce/Al-Jazari_-_A_Musical_Toy.jpg',\n",
              " 'https://upload.wikimedia.org/wikipedia/commons/6/60/Al-Jazari_-_A_Table_Device.jpg',\n",
              " 'https://upload.wikimedia.org/wikipedia/commons/7/7d/Al-Jazari_-_The_Basin.jpg',\n",
              " 'https://upload.wikimedia.org/wikipedia/commons/9/96/Al-Jazari_Automata_1205.jpg',\n",
              " 'https://upload.wikimedia.org/wikipedia/commons/7/76/Al-jazari_elephant_clock.png',\n",
              " 'https://upload.wikimedia.org/wikipedia/commons/2/2f/Al-jazari_robots.jpg',\n",
              " 'https://upload.wikimedia.org/wikipedia/commons/0/06/Al-jazari_water_device.jpg',\n",
              " 'https://upload.wikimedia.org/wikipedia/commons/7/73/Blue_pencil.svg',\n",
              " 'https://upload.wikimedia.org/wikipedia/commons/4/4a/Commons-logo.svg',\n",
              " 'https://upload.wikimedia.org/wikipedia/commons/9/91/Gravure_originale_du_compas_parfait_par_Ab%C5%AB_Sahl_al-Q%C5%ABh%C4%AB.jpg',\n",
              " 'https://upload.wikimedia.org/wikipedia/commons/a/a4/Text_document_with_red_question_mark.svg']"
            ]
          },
          "metadata": {},
          "execution_count": 14
        }
      ]
    },
    {
      "cell_type": "code",
      "metadata": {
        "colab": {
          "base_uri": "https://localhost:8080/",
          "height": 616
        },
        "id": "z8bjEFmSqTeQ",
        "outputId": "fd997ed6-3422-456a-cb0d-2e5d5319f0e7"
      },
      "source": [
        "my_page_tr.section(\"Hayatı\")"
      ],
      "execution_count": null,
      "outputs": [
        {
          "output_type": "execute_result",
          "data": {
            "application/vnd.google.colaboratory.intrinsic+json": {
              "type": "string"
            },
            "text/plain": [
              "'1136 yılında Cizre\\'nin Tor mahallesinde doğmuştur. Sibernetik alanın kurucusu kabul edilen, fizikçi, robot ve matrix ustası bilim insanı El-Cezeri 1206\\'da Cizre\\'de öldü. Lakabını yaşadığı şehirden alan El Cezeri, öğrenimini Camia Medresesi\\'nde tamamlayarak, fizik ve mekanik alanlarında yoğunlaştı ve pek çok ilke ve buluşa imza attı.\\nBatı yazınında M.Ö. 300 yıllarında Yunan matematikçi Archytas tarafından buharla çalışan bir güvercin yapılmış olduğu belirtilse de, robotikle ilgili bilinen en eski yazılı kayıt, Cezeri\\'ye aittir.Bir çalışmaya göre El-Cezeri bir zanaatkâr geleneğinin parçasıydı ve bu nedenle bir mucitten daha çok, cihazların teknolojisinden ziyade işçiliğine ilgi duyan, pratik bir mühendisdi ve makineleri genellikle teorik hesaplama yerine deneme yanılma yoluyla ortaya çıkardı. Otto Mayr\\'a göre kitapların tarzı modern anlamda \"kendin yap\" kitaplarına benziyor.Dünya bilim tarihi açısından bugünkü sibernetik ve robot biliminde çalışmalar yapan ilk bilim insanı olan Cezeri\\'nin yaptığı otomatik makineler günümüz mekanik ve sibernetik bilimlerinin temel taşlarını oluşturmaktadır. \"Mekanik Hareketlerden Mühendislikte Faydalanmayı İçeren Kitap\" (El Câmi-u’l Beyn’el İlmî ve El-Amelî’en Nâfi fî Sınâ\\'ati\\'l Hiyel, Arapça: بَيْنْ اَلْعِلْمِ وَالْعَمَلِ اَلنَّافِعْ فِي صِناعَةُ الْحِيَلْ) adlı eserinde ortaya koydu. 50\\'den fazla cihazın kullanım esaslarını, yararlanma olanaklarını çizimlerle gösterdiği bu kitapta Cezeri, tatbikata çevrilmeyen her teknik ilmin, doğru ile yanlış arasında kalacağını söyler. Bu kitabın özgün kopyası günümüze kadar ulaşamadıysa da bazı kopyaları Kuzey Amerika ve Avrupa\\'daki bazı kütüphaneler ve müzelerde bulunmaktadır. Kendi tarafından yazılmış bir kaç icadını anlatan orijinal eserler ise dünyanın çeşitli yerlerinde bulunmaktadır. Günümüze ulaşmış en eski el yazması İstanbul\\'da bulunan Topkapı Sarayı\\'ndaki \"Olağanüstü mekanik araçların bilgisi hakkında kitap\" adlı eseridir. Diğer eserleri ise; Bodleian Kütüphanesi, Leiden Üniversitesi Kütüphanesi, Chester Beatty Kütüphanesi ve Avrupa\\'nın birkaç başka kütüphane ve müzesinde bulunmaktadır.Kısaca Kitab-ül Hiyel adıyla bilinen eseri altı bölümden oluşur. Birinci bölümde binkam (su saati) ile finkanların (kandilli su saati) saat-ı müsteviye ve saat-ı zamaniye olarak nasıl yapılacağı hakkında on şekil; ikinci bölümde çeşitli kap kacakların yapılışı hakkında on şekil, üçüncü bölümde hacamat ve abdestle ilgili ibrik ve tasların yapılması hakkında on şekil; dördüncü bölümde havuzlar ve fıskiyeler ile müzik otomatları hakkında on şekil; beşinci bölümde çok derin olmayan bir kuyudan veya akan bir nehirden suyu yükselten aletler hakkında 5 şekil; 6. bölümde birbirine benzemeyen muhtelif şekillerin yapılışı hakkında 5 şekil yer alır.\\nTeorik çalışmalardan çok pratik ve el yordamıyla deneysel çalışmalar yapan Cezeri\\'nin kullandığı bir başka yöntem de yapacağı cihazların önceden kâğıttan maketlerini inşa edip geometri kurallarından yararlanmaktı. İlk hesap makinesinden asırlar önce aynı sistemle çalışan benzer bir mekanizmayı, geliştirdiği saatte kullanan Cezeri, sadece otomatik sistemler kurmakla kalmamış, otomatik olarak çalışan sistemler arasında denge kurmayı da başarmıştı.\\nCezeri, otomatik kontrollü makinelerin ilki sayılan Jacquard\\'ın otomatik dokuma tezgâhından 600 yıl önce değişik haznelerdeki suyun seviyesine göre ne zaman su dökeceğine, ne zaman meyve ve içecek sunacağına karar veren otomatik hizmetçiyi geliştirdi. Bazı makinelerinde hidro mekanik etkilerle denge kurma ve harekette bulunma sistemine yönelen Cezeri, bazılarında ise şamandıra ve palangalar arasında dişli çarklar kullanarak karşılıklı etkileme sistemini kurmaya çalıştı. Kendiliğinden çalışan otomatik sistemlerden sonra su gücü ve basınç etkisinden yararlanarak kendi kendine denge kuran ve ayarlama yapan dengeyi oluşturması, Cezeri\\'nin otomasyon konusundaki en önemli katkısıdır.\\nFizikçi ve mekanikçi El Cezeri\\'nin diğer bir eseri de Diyarbakır Ulu Camii\\'nin ünlü güneş saatidir.'"
            ]
          },
          "metadata": {},
          "execution_count": 15
        }
      ]
    },
    {
      "cell_type": "code",
      "metadata": {
        "colab": {
          "base_uri": "https://localhost:8080/",
          "height": 88
        },
        "id": "hNyv-IQjqhrG",
        "outputId": "52ac74e7-cfa1-4642-c525-112746828a7b"
      },
      "source": [
        "my_page_tr.section(\"Eserleri\")"
      ],
      "execution_count": null,
      "outputs": [
        {
          "output_type": "execute_result",
          "data": {
            "application/vnd.google.colaboratory.intrinsic+json": {
              "type": "string"
            },
            "text/plain": [
              "'Kitāb fi ma-\\'rifat al-Hiyal al-handasiyya (Arapça: الجامع بين العلم والعمل النافع في صناعة الحيل , Kitāb fi ma-\\'rifat al-Hiyal al-handasiyya) 1206 yılında bu eserini tamamlamıştır.\\nKitâb-ül-Câmi Beyn-el-İlmi vel-Amel-in-Nâfî fî Sınâat-il-Hiyel, (Arapça: بَيْنْ اَلْعِلْمِ وَالْعَمَلِ اَلنَّافِعْ فِي صِناعَةُ الْحِيَلْ , El Câmi-u’l Beyn’el İlmî El-Amelî’en Nâfi fî Sınâ\\'ati’l Hiyel) \"Makine Yapımında Yararlı Bilgiler ve Uygulamalar\" olarak adlandırmıştır.'"
            ]
          },
          "metadata": {},
          "execution_count": 16
        }
      ]
    },
    {
      "cell_type": "markdown",
      "metadata": {
        "id": "QIRgZ6yWxWPd"
      },
      "source": [
        "#Dili İngilizce olarak ayarlarız"
      ]
    },
    {
      "cell_type": "code",
      "metadata": {
        "id": "fXrDVjdXqnad"
      },
      "source": [
        "wikipedia.set_lang(\"en\")"
      ],
      "execution_count": null,
      "outputs": []
    },
    {
      "cell_type": "code",
      "metadata": {
        "colab": {
          "base_uri": "https://localhost:8080/",
          "height": 352
        },
        "id": "Cgz5JWA3rCV8",
        "outputId": "8d3cc973-1cb6-4f07-a71b-69ce2d9eb363"
      },
      "source": [
        "wikipedia.summary(\"Cezeri\", sentences=10)"
      ],
      "execution_count": null,
      "outputs": [
        {
          "output_type": "execute_result",
          "data": {
            "application/vnd.google.colaboratory.intrinsic+json": {
              "type": "string"
            },
            "text/plain": [
              "'Badīʿ az-Zaman Abu l-ʿIzz ibn Ismāʿīl ibn ar-Razāz al-Jazarī (1136–1206, Arabic: بديع الزمان أَبُ اَلْعِزِ إبْنُ إسْماعِيلِ إبْنُ الرِّزاز الجزري\\u200e,), IPA: [ældʒæzæriː]) was a Muslim polymath: a scholar, inventor, mechanical engineer, artisan, artist and mathematician from Artuqid Dynasty of Jazira in Mesopotamia. He is best known for writing The Book of Knowledge of Ingenious Mechanical Devices (Arabic: كتاب في معرفة الحيل الهندسية\\u200e, romanized: Kitab fi ma\\'rifat al-hiyal al-handasiya, lit.\\u2009\\'Book in knowledge of engineering tricks\\') in 1206, where he described 50 mechanical devices, along with instructions on how to construct them. He is credited with the invention of the elephant clock. Known by many as the \"father of robotics\" and modern day engineering.\\n\\n\\n== Biography ==\\n\\nAl-Jazari was born in the area of Upper Mesopotamia in 1136. Sources state his exact location is unknown, but they speculate he could have been born in Jazirat ibn Umar, where he got the name Jazari from or Al-Jazira which was used to denote Upper Mesopotamia. The only biographical information known about him is contained in his Book of Knowledge of Ingenious Mechanical Devices. Like his father before him, he served as chief engineer at the Artuklu Palace, the residence of the Mardin branch of the Artuqids which ruled across eastern Anatolia as vassals of the Zengid dynasty of Mosul and later of Ayyubid general Saladin.Al-Jazari was part of a tradition of artisans and was thus more a practical engineer than an inventor who appears to have been \"more interested in the craftsmanship necessary to construct the devices than in the technology which lay behind them\" and his machines were usually \"assembled by trial and error rather than by theoretical calculation\". His Book of Knowledge of Ingenious Mechanical Devices appears to have been quite popular as it appears in a large number of manuscript copies, and as he explains repeatedly, he only describes devices he has built himself. According to Mayr, the book\\'s style resembles that of a modern \"do-it-yourself\" book.Some of his devices were inspired by earlier devices, such as one of his monumental water clocks, which was based on that of a Pseudo-Archimedes.'"
            ]
          },
          "metadata": {},
          "execution_count": 18
        }
      ]
    },
    {
      "cell_type": "code",
      "metadata": {
        "colab": {
          "base_uri": "https://localhost:8080/"
        },
        "id": "vN2YhcATrSaI",
        "outputId": "30738577-adba-444e-ae13-0bedee7fcaac"
      },
      "source": [
        "wikipedia.search(\"Cezeri\")"
      ],
      "execution_count": null,
      "outputs": [
        {
          "output_type": "execute_result",
          "data": {
            "text/plain": [
              "['Ismail al-Jazari',\n",
              " 'Baykar Cezeri',\n",
              " 'Selçuk Bayraktar',\n",
              " 'Baykar',\n",
              " 'Hagios Demetrios',\n",
              " 'Flying car',\n",
              " 'Teknofest',\n",
              " 'Palace of the Porphyrogenitus',\n",
              " 'Shape-memory alloy',\n",
              " 'Kasımiye Medrese']"
            ]
          },
          "metadata": {},
          "execution_count": 19
        }
      ]
    },
    {
      "cell_type": "code",
      "metadata": {
        "colab": {
          "base_uri": "https://localhost:8080/",
          "height": 176
        },
        "id": "6sTDlq1stQ6R",
        "outputId": "2cde9fb2-e75a-43e2-a3f7-213b1e3dd845"
      },
      "source": [
        "wikipedia.summary(\"Baykar Cezeri\", sentences=10)"
      ],
      "execution_count": null,
      "outputs": [
        {
          "output_type": "execute_result",
          "data": {
            "application/vnd.google.colaboratory.intrinsic+json": {
              "type": "string"
            },
            "text/plain": [
              "'Cezeri is a quadcopter developed by Baykar Unmanned Aerial Vehicle Systems Co. in Turkey. It was named after Ismail al-Jazari (1136–1206),  a Muslim polymath: a scholar, inventor, mechanical engineer, artisan, artist and mathematician from Jazira in Mesopotamia. The 230 kg (510 lb) heavy prototype made the autonomous maiden flight midnight of September 2020, about one year after its introduction to the public at the 2019 Teknofest Istanbul.\\n\\n\\n== Autonomous maiden flight ==\\nThe initial test flights of the vehicle, called \"Flying car\", took place on 11 September 2020. The first autonous flights were made under a condition tied with ropes for security reasons. The next two flight tests were conducted in untied free status in the night of 14 September. All autonous flight tests were successful. The vehicle climbed 10 m (33 ft)} high.}\\n\\n\\n== Characteristics ==\\nCezeri takes off and lands vertical. Its dimensions are 3.73 m × 4.07 m × 1.87 m (12.2 ft × 13.4 ft × 6.1 ft).'"
            ]
          },
          "metadata": {},
          "execution_count": 20
        }
      ]
    },
    {
      "cell_type": "code",
      "metadata": {
        "id": "nhCmSWwMtrTj"
      },
      "source": [
        "my_page_en = wikipedia.page(\"Baykar Cezeri\")"
      ],
      "execution_count": null,
      "outputs": []
    },
    {
      "cell_type": "code",
      "metadata": {
        "colab": {
          "base_uri": "https://localhost:8080/",
          "height": 88
        },
        "id": "xyKs2t_Oubwb",
        "outputId": "329e9f68-0a7b-4cae-c014-8e71029e5c47"
      },
      "source": [
        "my_page_en.summary"
      ],
      "execution_count": null,
      "outputs": [
        {
          "output_type": "execute_result",
          "data": {
            "application/vnd.google.colaboratory.intrinsic+json": {
              "type": "string"
            },
            "text/plain": [
              "'Cezeri is a quadcopter developed by Baykar Unmanned Aerial Vehicle Systems Co. in Turkey. It was named after Ismail al-Jazari (1136–1206),  a Muslim polymath: a scholar, inventor, mechanical engineer, artisan, artist and mathematician from Jazira in Mesopotamia. The 230 kg (510 lb) heavy prototype made the autonomous maiden flight midnight of September 2020, about one year after its introduction to the public at the 2019 Teknofest Istanbul.'"
            ]
          },
          "metadata": {},
          "execution_count": 22
        }
      ]
    },
    {
      "cell_type": "code",
      "metadata": {
        "colab": {
          "base_uri": "https://localhost:8080/"
        },
        "id": "KWLFea04uep_",
        "outputId": "1b3512ee-bbd5-4759-a5e5-d470184f58b3"
      },
      "source": [
        "my_page_en.links"
      ],
      "execution_count": null,
      "outputs": [
        {
          "output_type": "execute_result",
          "data": {
            "text/plain": [
              "['Al-Jazira Province',\n",
              " 'Brushless DC electric motor',\n",
              " 'Ceiling (aeronautics)',\n",
              " 'Flying car',\n",
              " 'Habertürk',\n",
              " 'Ismail al-Jazari',\n",
              " 'Maiden flight',\n",
              " 'Mesopotamia',\n",
              " 'Polymath',\n",
              " 'Quadcopter',\n",
              " 'Sabah (newspaper)',\n",
              " 'TRT Haber',\n",
              " 'Teknofest Istanbul']"
            ]
          },
          "metadata": {},
          "execution_count": 23
        }
      ]
    },
    {
      "cell_type": "code",
      "metadata": {
        "colab": {
          "base_uri": "https://localhost:8080/"
        },
        "id": "tJDJHcziu17o",
        "outputId": "d05aa3e2-03d2-4bda-fa1a-2feab6f20622"
      },
      "source": [
        "len(my_page_en.links)"
      ],
      "execution_count": null,
      "outputs": [
        {
          "output_type": "execute_result",
          "data": {
            "text/plain": [
              "13"
            ]
          },
          "metadata": {},
          "execution_count": 24
        }
      ]
    },
    {
      "cell_type": "code",
      "metadata": {
        "colab": {
          "base_uri": "https://localhost:8080/"
        },
        "id": "JW6hrtwbvZj4",
        "outputId": "cabf533e-8705-4a52-ed04-4c12c2508d9b"
      },
      "source": [
        "len(my_page_en.categories)"
      ],
      "execution_count": null,
      "outputs": [
        {
          "output_type": "execute_result",
          "data": {
            "text/plain": [
              "7"
            ]
          },
          "metadata": {},
          "execution_count": 25
        }
      ]
    },
    {
      "cell_type": "code",
      "metadata": {
        "colab": {
          "base_uri": "https://localhost:8080/"
        },
        "id": "GGgyuuVxv7Jd",
        "outputId": "d29fc827-a580-4730-e6bb-e5ba8eeb5303"
      },
      "source": [
        "for cat in my_page_en.categories:\n",
        "  print(cat)\n"
      ],
      "execution_count": null,
      "outputs": [
        {
          "output_type": "stream",
          "text": [
            "Aircraft first flown in 2020\n",
            "Battery electric vehicles\n",
            "CS1 Turkish-language sources (tr)\n",
            "Commons category link is on Wikidata\n",
            "Quadcopters\n",
            "Unmanned aerial vehicles of Turkey\n",
            "Unmanned experimental aircraft\n"
          ],
          "name": "stdout"
        }
      ]
    },
    {
      "cell_type": "code",
      "metadata": {
        "id": "2D1-VKDPwGyg"
      },
      "source": [
        ""
      ],
      "execution_count": null,
      "outputs": []
    }
  ]
}